{
 "cells": [
  {
   "cell_type": "markdown",
   "metadata": {},
   "source": [
    "0. **Improve your business vision**"
   ]
  },
  {
   "cell_type": "code",
   "execution_count": null,
   "metadata": {},
   "outputs": [],
   "source": [
    "vision = \"\"\"\n",
    "\n",
    "Write your vision here...\n",
    "\n",
    "\"\"\"\n",
    "\n",
    "additional_prompt = \"\""
   ]
  },
  {
   "cell_type": "code",
   "execution_count": null,
   "metadata": {},
   "outputs": [],
   "source": [
    "import pandas as pd\n",
    "from importlib import reload\n",
    "\n",
    "import lib.refine_vision as this\n",
    "reload(this)\n",
    "\n",
    "res = this.chain.invoke({\"vision\": vision, \"additional_prompt\":additional_prompt})\n",
    "vision = {\"vision\": res.content.replace(\"\\n\", \"\")}\n",
    "pd.DataFrame([vision]).to_csv('./output/vision.csv',index=False)"
   ]
  },
  {
   "cell_type": "code",
   "execution_count": null,
   "metadata": {},
   "outputs": [],
   "source": [
    "print(res.content)"
   ]
  },
  {
   "cell_type": "markdown",
   "metadata": {},
   "source": [
    "1. **Discovery of Main Jobs and Job Performers**"
   ]
  },
  {
   "cell_type": "code",
   "execution_count": null,
   "metadata": {},
   "outputs": [],
   "source": [
    "additional_prompt = \"\""
   ]
  },
  {
   "cell_type": "code",
   "execution_count": null,
   "metadata": {},
   "outputs": [],
   "source": [
    "import json\n",
    "import pandas as pd\n",
    "from importlib import reload\n",
    "\n",
    "import lib.discover_performers_and_jobs as this\n",
    "reload(this)\n",
    "\n",
    "res = this.chain.invoke({\"vision\": vision, \"additional_prompt\": additional_prompt})\n",
    "res_dict = json.loads(res.additional_kwargs['function_call']['arguments'])['performers_and_jobs_list']\n",
    "performers_and_jobs = pd.DataFrame(res_dict)\n",
    "\n",
    "performers_and_jobs.to_csv('./output/performers_and_jobs.csv',index=False)\n",
    "\n",
    "performers_and_jobs"
   ]
  },
  {
   "cell_type": "markdown",
   "metadata": {},
   "source": [
    "2. **Synthesis of Job Performers**"
   ]
  },
  {
   "cell_type": "code",
   "execution_count": null,
   "metadata": {},
   "outputs": [],
   "source": [
    "selected_job_performers = \"\"\n",
    "selected_main_job = \"\"\n",
    "number = \"\"\n",
    "additional_prompt   = \"\""
   ]
  },
  {
   "cell_type": "code",
   "execution_count": null,
   "metadata": {},
   "outputs": [],
   "source": [
    "import json\n",
    "import pandas as pd\n",
    "from importlib import reload\n",
    "\n",
    "import lib.generate_performers as this\n",
    "reload(this)\n",
    "\n",
    "res = this.chain.invoke({\"number\": number, \"job_performers\": selected_job_performers, \"additional_prompt\": additional_prompt})\n",
    "\n",
    "performers = pd.DataFrame(json.loads(res.content)[\"job_performers\"])\n",
    "performers.to_csv('./output/performers.csv',index=False)\n",
    "\n",
    "performers"
   ]
  },
  {
   "cell_type": "markdown",
   "metadata": {},
   "source": [
    "3. **Automated Interviews**"
   ]
  },
  {
   "cell_type": "code",
   "execution_count": null,
   "metadata": {},
   "outputs": [],
   "source": [
    "import json\n",
    "\n",
    "from importlib import reload\n",
    "\n",
    "import lib.interview_performers as this\n",
    "reload(this)\n",
    "\n",
    "interviews = []\n",
    "for index, row in performers.iterrows():\n",
    "    performer = row.to_json()\n",
    "\n",
    "    # main_job_related = f\"\"\"Answer the following question focusing and thinking about the main job {selected_main_job} applied to what you are doing as {row['Profession']}.\n",
    "    # If the main job {selected_main_job} is not related to you, simply answer \\\"This is not my main job\\\" and skip the question.\"\"\"\n",
    "\n",
    "    main_job_related = \"\"\n",
    "\n",
    "    res = this.chain.invoke({\"job_performer\": performer, \"main_job_related\": main_job_related})\n",
    "    res_dict = json.loads(res.additional_kwargs['function_call']['arguments'])\n",
    "    \n",
    "    interview = pd.DataFrame(res_dict[\"interview\"])\n",
    "    \n",
    "    job_performer_dict = row.to_dict()\n",
    "\n",
    "    job_performer_dict.update({\"interview\": interview})\n",
    "\n",
    "    interviews.append(job_performer_dict)"
   ]
  },
  {
   "cell_type": "code",
   "execution_count": null,
   "metadata": {},
   "outputs": [],
   "source": [
    "import os\n",
    "outdir = './output/interviews'\n",
    "if not os.path.exists(outdir):\n",
    "    os.mkdir(outdir)\n",
    "\n",
    "for interview in interviews:\n",
    "    interview[\"interview\"].to_csv(\n",
    "        os.path.join(outdir,\"_\".join((\n",
    "        interview[\"Name\"].replace(\" \", \"\"),\n",
    "        interview[\"Profession\"].replace(\" \", \"\"),\n",
    "        interview[\"Industry\"].replace(\" \", \"\"),\n",
    "        interview[\"Experience_level\"].replace(\" \", \"\"),\n",
    "        ))+\".csv\"),\n",
    "        index=False)"
   ]
  },
  {
   "cell_type": "markdown",
   "metadata": {},
   "source": [
    "4. **Analyze Interviews**"
   ]
  },
  {
   "cell_type": "code",
   "execution_count": null,
   "metadata": {},
   "outputs": [],
   "source": [
    "import json\n",
    "import pandas as pd\n",
    "from importlib import reload\n",
    "\n",
    "import lib.analyse_interviews as this\n",
    "reload(this)\n",
    "\n",
    "analysis_list = []\n",
    "for interview in interviews:\n",
    "    res = this.chain.invoke({\"interview\":interview})\n",
    "    res_dict = json.loads(res.additional_kwargs['function_call']['arguments'])[\"analysis\"]\n",
    "    analysis_list.append(pd.DataFrame(res_dict))\n",
    "\n",
    "analysis = pd.concat(analysis_list)\n",
    "analysis.to_csv('./output/analysis.csv',index=False)"
   ]
  },
  {
   "cell_type": "code",
   "execution_count": null,
   "metadata": {},
   "outputs": [],
   "source": [
    "import json\n",
    "import pandas as pd\n",
    "from importlib import reload\n",
    "\n",
    "import lib.categorize_job_steps as this\n",
    "reload(this)\n",
    "\n",
    "job_steps = analysis[\"Job Step\"]\n",
    "\n",
    "res = this.chain.invoke({\"main_job\":selected_main_job, \"job_performers\": selected_job_performers, \"job_steps\":job_steps})\n",
    "res_dict = (json.loads(res.additional_kwargs['function_call']['arguments']))\n",
    "job_steps_categorized = pd.DataFrame(res_dict)\n",
    "\n",
    "res_dict = (json.loads(res.additional_kwargs['function_call']['arguments']))\n",
    "job_steps_categorized = pd.DataFrame(res_dict['analysis'])\n",
    "\n",
    "analysis = pd.merge(analysis, job_steps_categorized[[\"Job Step\", \"Category\"]], on='Job Step', how='outer')"
   ]
  },
  {
   "cell_type": "code",
   "execution_count": null,
   "metadata": {},
   "outputs": [],
   "source": [
    "{\n",
    "    \"job performers\":\"System Administrator\",\n",
    "    \"main_job\": \"Guarantee system reliability and uptime\",\n",
    "    \"analysis\": analysis.to_dict('records')\n",
    "}"
   ]
  }
 ],
 "metadata": {
  "kernelspec": {
   "display_name": ".venv",
   "language": "python",
   "name": "python3"
  },
  "language_info": {
   "codemirror_mode": {
    "name": "ipython",
    "version": 3
   },
   "file_extension": ".py",
   "mimetype": "text/x-python",
   "name": "python",
   "nbconvert_exporter": "python",
   "pygments_lexer": "ipython3",
   "version": "3.11.4"
  }
 },
 "nbformat": 4,
 "nbformat_minor": 2
}
